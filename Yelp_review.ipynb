{
 "cells": [
  {
   "cell_type": "markdown",
   "metadata": {},
   "source": [
    "# Analýza textového hodnocení uživatelů Yelp datasetu\n",
    "## Yelp dataset\n",
    "\n",
    "Yelp dataset obsahuje textová hodnocení uživatelů jimi navštěvovaných podniků včetně škálového ohodnocení, kde škála je od 1 (nejhorší možné) do 5 (nejlepší možné). \n",
    "\n",
    "## Task\n",
    "\n",
    "Cílem tohoto projektu je pomocí klasifikátorů:\n",
    "\n",
    "-  **Logistic Regression**\n",
    "-  **Decision Tree**\n",
    "-  **Random forest**\n",
    "-  **Multinomial Naive Bayes**\n",
    "\n",
    "na základě textového hodnocení uživatele rozhodnout, které hodnocení na číselné škále mu uživatel přiřadil, případně zda bylo hodnocení pozitivní či negativní a efektivitu těchto klasifikátorů porovnat.\n",
    "\n",
    "## Plan\n",
    "\n",
    "1. Import potřebných knihoven\n",
    "2. Nahrání a převedení Yelp datasetu do DataFrame\n",
    "3. Rozhodnut, které features jsou potřebné pro další analýzu\n",
    "4. Zredukovat a vybalancovat dataset (stejný počet zastoupení škálového hodnocení (1,2,3,4,5))\n",
    "5. Odstranění nežádoucích znaků z textu, např. interpunkce, speciální znaky apod.\n",
    "6. Odstranění tzv. ,,stop words\" z textu jako [the, a, is, ...]\n",
    "7. Vytvoření nového sloupce ohodocení v závislosti na číselném hodnocení, kde (1,2) = negativní, (4,5) = pozitivní\n",
    "8. Vytvoření fuknce, které jsou jako vstupní parametry předány parametry datasetu (df, X, target) + parametr zpracování textu (ngram). Funkce zpracuje text do vektorů pomocí principu ,,bag of words\", vyhodnotí pomocí klasifikátorů a ke každému vytvoří klasifikační skóre\n",
    "9. Grafické porovnání klasifikátorů na základě datasetů a vstupních parametrů"
   ]
  },
  {
   "cell_type": "markdown",
   "metadata": {},
   "source": [
    "## 1. Import knihoven"
   ]
  },
  {
   "cell_type": "code",
   "execution_count": 1,
   "metadata": {},
   "outputs": [],
   "source": [
    "import json\n",
    "\n",
    "import numpy as np\n",
    "import pandas as pd\n",
    "\n",
    "import re\n",
    "\n",
    "from tqdm import tqdm\n",
    "\n",
    "from nltk.corpus import stopwords\n",
    "\n",
    "from sklearn.utils import shuffle\n",
    "from sklearn.feature_extraction.text import CountVectorizer\n",
    "from sklearn.model_selection import train_test_split, GridSearchCV\n",
    "from sklearn.linear_model import LogisticRegression\n",
    "from sklearn.metrics import confusion_matrix, classification_report, accuracy_score\n",
    "from sklearn.tree import DecisionTreeClassifier\n",
    "from sklearn.ensemble import RandomForestClassifier\n",
    "from sklearn.naive_bayes import MultinomialNB\n",
    "\n",
    "import matplotlib.pyplot as plt\n",
    "import seaborn as sns\n",
    "%matplotlib inline"
   ]
  },
  {
   "cell_type": "markdown",
   "metadata": {},
   "source": [
    "## 2. Nahrání a převedení Yelp datasetu do DataFrame\n",
    "K tomuto slouží vytvořená funkce *yelp_data()*, které jsou předány vstupní parametry *file* což je systémová cesta k .json souboru a *stop*, který určuje, kolik záznamů (hodnocení uživatelů) se z datasetu nahraje. V tomto případě bylo zvoleno 150 000 záznamů, které byly převedeny do pandas DataFrame."
   ]
  },
  {
   "cell_type": "code",
   "execution_count": 2,
   "metadata": {},
   "outputs": [],
   "source": [
    "def yelp_data(file, stop):\n",
    "    with open(file, encoding=\"utf-8\") as f:\n",
    "        counter = 0\n",
    "        for line in f:\n",
    "            counter += 1\n",
    "            if counter == stop:\n",
    "                break\n",
    "            yield json.loads(line.rstrip())"
   ]
  },
  {
   "cell_type": "code",
   "execution_count": 3,
   "metadata": {},
   "outputs": [],
   "source": [
    "review = yelp_data(file=\"yelp_academic_dataset_review.json\", stop=150000)\n",
    "df = pd.DataFrame.from_records(review)"
   ]
  },
  {
   "cell_type": "markdown",
   "metadata": {},
   "source": [
    "## 3. Rozhodnutí, které features jsou vhodné/nevhodné pro další analýzu\n",
    "\n",
    "Následující sloupce:\n",
    "\n",
    "- **business_id**\n",
    "- **date**\n",
    "- **review_id**\n",
    "- **user_id**\n",
    "\n",
    "Byly vyhodonceny jako nepotřebné pro další analýzu a odstraněny z datasetu."
   ]
  },
  {
   "cell_type": "code",
   "execution_count": 4,
   "metadata": {},
   "outputs": [
    {
     "data": {
      "text/html": [
       "<div>\n",
       "<style scoped>\n",
       "    .dataframe tbody tr th:only-of-type {\n",
       "        vertical-align: middle;\n",
       "    }\n",
       "\n",
       "    .dataframe tbody tr th {\n",
       "        vertical-align: top;\n",
       "    }\n",
       "\n",
       "    .dataframe thead th {\n",
       "        text-align: right;\n",
       "    }\n",
       "</style>\n",
       "<table border=\"1\" class=\"dataframe\">\n",
       "  <thead>\n",
       "    <tr style=\"text-align: right;\">\n",
       "      <th></th>\n",
       "      <th>business_id</th>\n",
       "      <th>cool</th>\n",
       "      <th>date</th>\n",
       "      <th>funny</th>\n",
       "      <th>review_id</th>\n",
       "      <th>stars</th>\n",
       "      <th>text</th>\n",
       "      <th>useful</th>\n",
       "      <th>user_id</th>\n",
       "    </tr>\n",
       "  </thead>\n",
       "  <tbody>\n",
       "    <tr>\n",
       "      <th>0</th>\n",
       "      <td>-MhfebM0QIsKt87iDN-FNw</td>\n",
       "      <td>0</td>\n",
       "      <td>2015-04-15 05:21:16</td>\n",
       "      <td>0</td>\n",
       "      <td>xQY8N_XvtGbearJ5X4QryQ</td>\n",
       "      <td>2.0</td>\n",
       "      <td>As someone who has worked with many museums, I...</td>\n",
       "      <td>5</td>\n",
       "      <td>OwjRMXRC0KyPrIlcjaXeFQ</td>\n",
       "    </tr>\n",
       "    <tr>\n",
       "      <th>1</th>\n",
       "      <td>lbrU8StCq3yDfr-QMnGrmQ</td>\n",
       "      <td>0</td>\n",
       "      <td>2013-12-07 03:16:52</td>\n",
       "      <td>1</td>\n",
       "      <td>UmFMZ8PyXZTY2QcwzsfQYA</td>\n",
       "      <td>1.0</td>\n",
       "      <td>I am actually horrified this place is still in...</td>\n",
       "      <td>1</td>\n",
       "      <td>nIJD_7ZXHq-FX8byPMOkMQ</td>\n",
       "    </tr>\n",
       "    <tr>\n",
       "      <th>2</th>\n",
       "      <td>HQl28KMwrEKHqhFrrDqVNQ</td>\n",
       "      <td>0</td>\n",
       "      <td>2015-12-05 03:18:11</td>\n",
       "      <td>0</td>\n",
       "      <td>LG2ZaYiOgpr2DK_90pYjNw</td>\n",
       "      <td>5.0</td>\n",
       "      <td>I love Deagan's. I do. I really do. The atmosp...</td>\n",
       "      <td>1</td>\n",
       "      <td>V34qejxNsCbcgD8C0HVk-Q</td>\n",
       "    </tr>\n",
       "    <tr>\n",
       "      <th>3</th>\n",
       "      <td>5JxlZaqCnk1MnbgRirs40Q</td>\n",
       "      <td>0</td>\n",
       "      <td>2011-05-27 05:30:52</td>\n",
       "      <td>0</td>\n",
       "      <td>i6g_oA9Yf9Y31qt0wibXpw</td>\n",
       "      <td>1.0</td>\n",
       "      <td>Dismal, lukewarm, defrosted-tasting \"TexMex\" g...</td>\n",
       "      <td>0</td>\n",
       "      <td>ofKDkJKXSKZXu5xJNGiiBQ</td>\n",
       "    </tr>\n",
       "    <tr>\n",
       "      <th>4</th>\n",
       "      <td>IS4cv902ykd8wj1TR0N3-A</td>\n",
       "      <td>0</td>\n",
       "      <td>2017-01-14 21:56:57</td>\n",
       "      <td>0</td>\n",
       "      <td>6TdNDKywdbjoTkizeMce8A</td>\n",
       "      <td>4.0</td>\n",
       "      <td>Oh happy day, finally have a Canes near my cas...</td>\n",
       "      <td>0</td>\n",
       "      <td>UgMW8bLE0QMJDCkQ1Ax5Mg</td>\n",
       "    </tr>\n",
       "  </tbody>\n",
       "</table>\n",
       "</div>"
      ],
      "text/plain": [
       "              business_id  cool                 date  funny  \\\n",
       "0  -MhfebM0QIsKt87iDN-FNw     0  2015-04-15 05:21:16      0   \n",
       "1  lbrU8StCq3yDfr-QMnGrmQ     0  2013-12-07 03:16:52      1   \n",
       "2  HQl28KMwrEKHqhFrrDqVNQ     0  2015-12-05 03:18:11      0   \n",
       "3  5JxlZaqCnk1MnbgRirs40Q     0  2011-05-27 05:30:52      0   \n",
       "4  IS4cv902ykd8wj1TR0N3-A     0  2017-01-14 21:56:57      0   \n",
       "\n",
       "                review_id  stars  \\\n",
       "0  xQY8N_XvtGbearJ5X4QryQ    2.0   \n",
       "1  UmFMZ8PyXZTY2QcwzsfQYA    1.0   \n",
       "2  LG2ZaYiOgpr2DK_90pYjNw    5.0   \n",
       "3  i6g_oA9Yf9Y31qt0wibXpw    1.0   \n",
       "4  6TdNDKywdbjoTkizeMce8A    4.0   \n",
       "\n",
       "                                                text  useful  \\\n",
       "0  As someone who has worked with many museums, I...       5   \n",
       "1  I am actually horrified this place is still in...       1   \n",
       "2  I love Deagan's. I do. I really do. The atmosp...       1   \n",
       "3  Dismal, lukewarm, defrosted-tasting \"TexMex\" g...       0   \n",
       "4  Oh happy day, finally have a Canes near my cas...       0   \n",
       "\n",
       "                  user_id  \n",
       "0  OwjRMXRC0KyPrIlcjaXeFQ  \n",
       "1  nIJD_7ZXHq-FX8byPMOkMQ  \n",
       "2  V34qejxNsCbcgD8C0HVk-Q  \n",
       "3  ofKDkJKXSKZXu5xJNGiiBQ  \n",
       "4  UgMW8bLE0QMJDCkQ1Ax5Mg  "
      ]
     },
     "execution_count": 4,
     "metadata": {},
     "output_type": "execute_result"
    }
   ],
   "source": [
    "df.head()"
   ]
  },
  {
   "cell_type": "code",
   "execution_count": 5,
   "metadata": {},
   "outputs": [],
   "source": [
    "df.drop([\"business_id\", \"date\", \"review_id\", \"user_id\"], axis=1, inplace=True)"
   ]
  },
  {
   "cell_type": "markdown",
   "metadata": {},
   "source": [
    "## 4. Balancování datasetu\n",
    "\n",
    "Pro další analýzu je žádoucí, aby byla všechna hodnocení ve smyslu škály zastoupena v datasetu rovnoměrně. Toto je upravitelné nastavením proměnných *start_point* a *end_point*.\n",
    "\n",
    "V tomto případě bude obsahovat dataset **df1**:\n",
    "\n",
    "- **10 000 vzorků s hodnocením 1**\n",
    "- **10 000 vzorků s hodnocením 2**\n",
    "- **10 000 vzorků s hodnocením 3**\n",
    "- **10 000 vzorků s hodnocením 4**\n",
    "- **10 000 vzorků s hodnocením 5**\n",
    "\n",
    "Celkem tedy dataset **df1** obsahuje 50 000 vzorků (hodnocení). Dále bylo zkontrolováno, zda některé z hodnocení není nevyplněné a bylo resetováno indexování datasetu."
   ]
  },
  {
   "cell_type": "code",
   "execution_count": 6,
   "metadata": {},
   "outputs": [
    {
     "data": {
      "text/plain": [
       "5.0    65965\n",
       "4.0    34180\n",
       "1.0    20658\n",
       "3.0    16819\n",
       "2.0    12377\n",
       "Name: stars, dtype: int64"
      ]
     },
     "execution_count": 6,
     "metadata": {},
     "output_type": "execute_result"
    }
   ],
   "source": [
    "df[\"stars\"].value_counts()"
   ]
  },
  {
   "cell_type": "code",
   "execution_count": 7,
   "metadata": {},
   "outputs": [],
   "source": [
    "start_point = 0\n",
    "end_point = 10000\n",
    "\n",
    "df1 = pd.DataFrame()\n",
    "for i in range(1,6):\n",
    "    df1 = df1.append(df[df[\"stars\"] == i][start_point:end_point])"
   ]
  },
  {
   "cell_type": "code",
   "execution_count": 8,
   "metadata": {},
   "outputs": [
    {
     "data": {
      "text/plain": [
       "0"
      ]
     },
     "execution_count": 8,
     "metadata": {},
     "output_type": "execute_result"
    }
   ],
   "source": [
    "df1[\"text\"].isnull().sum()"
   ]
  },
  {
   "cell_type": "code",
   "execution_count": 9,
   "metadata": {},
   "outputs": [],
   "source": [
    "df1.sort_index(inplace=True)"
   ]
  },
  {
   "cell_type": "code",
   "execution_count": 10,
   "metadata": {},
   "outputs": [
    {
     "data": {
      "text/plain": [
       "3.0    10000\n",
       "5.0    10000\n",
       "4.0    10000\n",
       "1.0    10000\n",
       "2.0    10000\n",
       "Name: stars, dtype: int64"
      ]
     },
     "execution_count": 10,
     "metadata": {},
     "output_type": "execute_result"
    }
   ],
   "source": [
    "df1[\"stars\"].value_counts()"
   ]
  },
  {
   "cell_type": "markdown",
   "metadata": {},
   "source": [
    "## 5. Odstranění nežádoucích znaků z textu\n",
    "\n",
    "Pomocí knihovny **regular expressions** byly odstraněny nežádoucí znaky (interpunkce, speciální znaky apod.) z textů hodnocení a veškerý text byl nastaven do stavu *lower case*. \n",
    "\n",
    "Srovnání textu před odstranením nežádoucích znaků a po je uvedeno níže."
   ]
  },
  {
   "cell_type": "code",
   "execution_count": 11,
   "metadata": {},
   "outputs": [],
   "source": [
    "REPLACE_NSPACE = re.compile(\"[\\n.;:!'?*,\\\"()0-9#&@$/-]\") \n",
    "\n",
    "def text_preprocess(review):\n",
    "    review = [REPLACE_NSPACE.sub(\"\", line.lower()) for line in review]\n",
    "    return review"
   ]
  },
  {
   "cell_type": "code",
   "execution_count": 12,
   "metadata": {},
   "outputs": [],
   "source": [
    "df1[\"Cleaned_text\"] = text_preprocess(df1[\"text\"])"
   ]
  },
  {
   "cell_type": "code",
   "execution_count": 238,
   "metadata": {
    "scrolled": true
   },
   "outputs": [
    {
     "name": "stdout",
     "output_type": "stream",
     "text": [
      "Původní text:\n",
      "\n",
      "\n",
      "As someone who has worked with many museums, I was eager to visit this gallery on my most recent trip to Las Vegas. When I saw they would be showing infamous eggs of the House of Faberge from the Virginia Museum of Fine Arts (VMFA), I knew I had to go!\n",
      "\n",
      "Tucked away near the gelateria and the garden, the Gallery is pretty much hidden from view. It's what real estate agents would call \"cozy\" or \"charming\" - basically any euphemism for small.\n",
      "\n",
      "That being said, you can still see wonderful art at a gallery of any size, so why the two *s you ask? Let me tell you:\n",
      "\n",
      "* pricing for this, while relatively inexpensive for a Las Vegas attraction, is completely over the top. For the space and the amount of art you can fit in there, it is a bit much.\n",
      "* it's not kid friendly at all. Seriously, don't bring them.\n",
      "* the security is not trained properly for the show. When the curating and design teams collaborate for exhibitions, there is a definite flow. That means visitors should view the art in a certain sequence, whether it be by historical period or cultural significance (this is how audio guides are usually developed). When I arrived in the gallery I could not tell where to start, and security was certainly not helpful. I was told to \"just look around\" and \"do whatever.\" \n",
      "\n",
      "At such a *fine* institution, I find the lack of knowledge and respect for the art appalling.\n",
      "\n",
      "\n",
      "Text bez nežádoucích znaků:\n",
      "\n",
      "\n",
      "as someone who has worked with many museums i was eager to visit this gallery on my most recent trip to las vegas when i saw they would be showing infamous eggs of the house of faberge from the virginia museum of fine arts vmfa i knew i had to gotucked away near the gelateria and the garden the gallery is pretty much hidden from view its what real estate agents would call cozy or charming  basically any euphemism for smallthat being said you can still see wonderful art at a gallery of any size so why the two s you ask let me tell you pricing for this while relatively inexpensive for a las vegas attraction is completely over the top for the space and the amount of art you can fit in there it is a bit much its not kid friendly at all seriously dont bring them the security is not trained properly for the show when the curating and design teams collaborate for exhibitions there is a definite flow that means visitors should view the art in a certain sequence whether it be by historical period or cultural significance this is how audio guides are usually developed when i arrived in the gallery i could not tell where to start and security was certainly not helpful i was told to just look around and do whatever at such a fine institution i find the lack of knowledge and respect for the art appalling\n"
     ]
    }
   ],
   "source": [
    "print(\"\\033[1m\" + \"Původní text:\")\n",
    "print(\"\\033[0m\" + \"\\n\")\n",
    "print(df1[\"text\"][0])\n",
    "print(\"\\n\")\n",
    "print(\"\\033[1m\" + \"Text bez nežádoucích znaků:\")\n",
    "print(\"\\033[0m\" + \"\\n\")\n",
    "print(df1[\"Cleaned_text\"][0])"
   ]
  },
  {
   "cell_type": "markdown",
   "metadata": {},
   "source": [
    "## 6. Odstranění ,,stop words\"\n",
    "Dále byly z textů hodnocení odstraněná ,,stop words\" z toho důvodu, že pro analýzu sentimentu nejsou významná a pro redukci vstupních dat klasifikátorů. \n",
    "\n",
    "Porovnání textů před a po odstranění je uvedeno níže."
   ]
  },
  {
   "cell_type": "code",
   "execution_count": 14,
   "metadata": {},
   "outputs": [],
   "source": [
    "en_stop_words = stopwords.words(\"english\")\n",
    "def remove_stopwords(corpus):\n",
    "    cleared = []\n",
    "    for review in corpus:\n",
    "        cleared.append(' '.join([word for word in review.split() if word not in en_stop_words]))\n",
    "    return cleared"
   ]
  },
  {
   "cell_type": "code",
   "execution_count": 15,
   "metadata": {},
   "outputs": [],
   "source": [
    "df1[\"Cleaned_text_stwo\"] = remove_stopwords(df1[\"Cleaned_text\"])"
   ]
  },
  {
   "cell_type": "code",
   "execution_count": 16,
   "metadata": {
    "scrolled": true
   },
   "outputs": [
    {
     "name": "stdout",
     "output_type": "stream",
     "text": [
      "Původní text:\n",
      "\n",
      "\n",
      "as someone who has worked with many museums i was eager to visit this gallery on my most recent trip to las vegas when i saw they would be showing infamous eggs of the house of faberge from the virginia museum of fine arts vmfa i knew i had to gotucked away near the gelateria and the garden the gallery is pretty much hidden from view its what real estate agents would call cozy or charming  basically any euphemism for smallthat being said you can still see wonderful art at a gallery of any size so why the two s you ask let me tell you pricing for this while relatively inexpensive for a las vegas attraction is completely over the top for the space and the amount of art you can fit in there it is a bit much its not kid friendly at all seriously dont bring them the security is not trained properly for the show when the curating and design teams collaborate for exhibitions there is a definite flow that means visitors should view the art in a certain sequence whether it be by historical period or cultural significance this is how audio guides are usually developed when i arrived in the gallery i could not tell where to start and security was certainly not helpful i was told to just look around and do whatever at such a fine institution i find the lack of knowledge and respect for the art appalling\n",
      "\n",
      "\n",
      "Text bez stop words:\n",
      "\n",
      "\n",
      "someone worked many museums eager visit gallery recent trip las vegas saw would showing infamous eggs house faberge virginia museum fine arts vmfa knew gotucked away near gelateria garden gallery pretty much hidden view real estate agents would call cozy charming basically euphemism smallthat said still see wonderful art gallery size two ask let tell pricing relatively inexpensive las vegas attraction completely top space amount art fit bit much kid friendly seriously dont bring security trained properly show curating design teams collaborate exhibitions definite flow means visitors view art certain sequence whether historical period cultural significance audio guides usually developed arrived gallery could tell start security certainly helpful told look around whatever fine institution find lack knowledge respect art appalling\n"
     ]
    }
   ],
   "source": [
    "print(\"\\033[1m\" + \"Původní text:\")\n",
    "print(\"\\033[0m\" + \"\\n\")\n",
    "print(df1[\"Cleaned_text\"][0])\n",
    "print(\"\\n\")\n",
    "print(\"\\033[1m\" + \"Text bez stop words:\")\n",
    "print(\"\\033[0m\" + \"\\n\")\n",
    "print(df1[\"Cleaned_text_stwo\"][0])"
   ]
  },
  {
   "cell_type": "markdown",
   "metadata": {},
   "source": [
    "## 7. Rozdělení datasetu pro klasifikace\n",
    "\n",
    "Klasifikace byla provedena na celkem 3 modifikovaných datasetech:\n",
    "\n",
    "1. **df1**: Původní dataset, kde je každé hodnocení od 1 do 5 zastoupeno 10 000 vzorky\n",
    "\n",
    "\n",
    "2. **df_posneg**: Modifikovaný dataset, kde pomocí funkce *posneg_func()* byl vytvořen nový sloupec *\"positive\"* s hodnoutou 1 nebo 0, která byla přiřazována následovně: Je-li uživatelské hodnocení 1 nebo 2 je hodnota *\"positive\"* rovna 0, naopak je-li hodnocení 4 nebo 5, je přiřazena k hodnotě *\"positive\"* hodnota 1. Uživatelské hodnocení 3 bylo z datasetu odstraněno.\n",
    "\n",
    "\n",
    "3. **df_binary15**: Obsahuje jen ta hodnocení, která obdržela 1 nebo 5, zbylá byla z datasetu odstarněna"
   ]
  },
  {
   "cell_type": "code",
   "execution_count": 17,
   "metadata": {},
   "outputs": [
    {
     "data": {
      "text/plain": [
       "5.0    10000\n",
       "4.0    10000\n",
       "1.0    10000\n",
       "2.0    10000\n",
       "Name: stars, dtype: int64"
      ]
     },
     "execution_count": 17,
     "metadata": {},
     "output_type": "execute_result"
    }
   ],
   "source": [
    "df_posneg = df1.drop(df1[df1[\"stars\"] == 3].index)\n",
    "df_posneg.name = \"df_posneg\"\n",
    "df_posneg[\"stars\"].value_counts()"
   ]
  },
  {
   "cell_type": "code",
   "execution_count": 18,
   "metadata": {},
   "outputs": [],
   "source": [
    "def posneg_func(df):\n",
    "    if df[\"stars\"] == 4 or df[\"stars\"] == 5:\n",
    "        value = 1\n",
    "    else:\n",
    "        value = 0\n",
    "    return value"
   ]
  },
  {
   "cell_type": "code",
   "execution_count": 19,
   "metadata": {},
   "outputs": [],
   "source": [
    "df_posneg[\"positive\"] = df_posneg.apply(posneg_func, axis=1)"
   ]
  },
  {
   "cell_type": "code",
   "execution_count": 20,
   "metadata": {},
   "outputs": [],
   "source": [
    "df_binary15 = df_posneg.drop(df_posneg[df_posneg[\"stars\"] == 2].index)\n",
    "df_binary15 = df_binary15.drop(df_binary15[df_binary15[\"stars\"] == 4].index)"
   ]
  },
  {
   "cell_type": "code",
   "execution_count": 21,
   "metadata": {},
   "outputs": [],
   "source": [
    "df_binary15 = df_binary15.drop(\"positive\", axis=1)"
   ]
  },
  {
   "cell_type": "code",
   "execution_count": 22,
   "metadata": {},
   "outputs": [
    {
     "data": {
      "text/plain": [
       "5.0    10000\n",
       "1.0    10000\n",
       "Name: stars, dtype: int64"
      ]
     },
     "execution_count": 22,
     "metadata": {},
     "output_type": "execute_result"
    }
   ],
   "source": [
    "df_binary15[\"stars\"].value_counts()"
   ]
  },
  {
   "cell_type": "code",
   "execution_count": 23,
   "metadata": {},
   "outputs": [],
   "source": [
    "df_posneg = df_posneg.drop(\"stars\", axis=1)"
   ]
  },
  {
   "cell_type": "markdown",
   "metadata": {},
   "source": [
    "## 8. Vytvoření funkce pro rozdělení dat na testovací, trénovací, případně validační a testování klasifikátorů\n",
    "\n",
    "Níže je definován slovník s klasifikátory a jejich názvy.\n",
    "\n",
    "**Funkce *classify()***\n",
    "\n",
    "\n",
    "Tato funkce slouží pro zpracování datasetu, převedení textů na vstupní vektory pomocí principu ,,bag of words\", rozdělení dat na trénovací, testovací a validační, následné analýze pomocí klasifikátorů a k zobrazení klasifikačních reportů.\n",
    "\n",
    "Jako vstupní parametry jsou předávány funkci:\n",
    "\n",
    "- **df** - dataset\n",
    "\n",
    "\n",
    "- **input_data** - vstupní data\n",
    "\n",
    "\n",
    "- **target** - target\n",
    "\n",
    "\n",
    "- **ngram_range** - parametr pro slovní spojení. Zadává se pomocí tuple a slouží jako rozsah. Například (1,1) by rozdělilo string *\"výborný oběd\"* na *\"výborný\"* a *\"oběd\"*, (1,2) by pak spojení rozdělilo na *\"výborný\"*, *\"oběd\"*, a *\"výborný oběd\"*, (2,2) jen na *\"výborný oběd\"*.\n",
    "\n",
    "\n",
    "- **test_prop** - float od 0 do 1 sloužící k určení, jak velká část dat bude pro testování a jak velká pro trénování \n",
    "\n",
    "\n",
    "Funkce nejprve zamíchá řádky datasetu a resetuje indexy. Dále data rozdělí na trénovací a testovancí. Textová hodnocení jsou dále převedena na vektory pomocí *CountVectorizer*. Následně jsou data znovu rozdělena na trénovací a validnační. Poté jsou klasifikována pomocí klasifikátorů. "
   ]
  },
  {
   "cell_type": "code",
   "execution_count": 24,
   "metadata": {},
   "outputs": [],
   "source": [
    "classifiers = {\n",
    "    \"Logistic Regression\": LogisticRegression(C=0.01),\n",
    "    \"Decision Tree\": DecisionTreeClassifier(),\n",
    "    \"Random Forest\": RandomForestClassifier(n_estimators=10),\n",
    "    \"Multinomial NB\": MultinomialNB()\n",
    "}\n",
    "\n",
    "results = pd.DataFrame(columns=[\"Logistic Regression\", \n",
    "                                \"Decision Tree\",\n",
    "                                \"Random Forest\",\n",
    "                                \"Multinomial NB\"])\n",
    "\n",
    "df1.name = \"Multiclass\"\n",
    "df_posneg.name = \"Binary-posneg\"\n",
    "df_binary15.name = \"Binary-15\""
   ]
  },
  {
   "cell_type": "code",
   "execution_count": 25,
   "metadata": {},
   "outputs": [],
   "source": [
    "def classify(df, input_data, target, ngram_range=(1,1), test_prop=0.2):\n",
    "    \n",
    "    dataset_name = df.name\n",
    "    \n",
    "    df = shuffle(df)\n",
    "    df = df.reset_index(drop=True)\n",
    "    \n",
    "    X = df[input_data]\n",
    "    y = df[target]\n",
    "    \n",
    "    test_prop = test_prop\n",
    "    \n",
    "    X_train, X_test = X[:int(len(X)*(1-test_prop))], X[int(len(X)*(1-test_prop)):]\n",
    "    y_train, y_test = y[:int(len(X)*(1-test_prop))], y[int(len(X)*(1-test_prop)):]\n",
    "    \n",
    "    cv = CountVectorizer(ngram_range=ngram_range)\n",
    "    cv.fit(X_train)\n",
    "    X_train = cv.transform(X_train)\n",
    "    X_test = cv.transform(X_test)\n",
    "\n",
    "    X_train, X_val, y_train, y_val = train_test_split(X_train, y_train, test_size=test_prop)\n",
    "    \n",
    "    result_dict = {}\n",
    "    for name in classifiers:\n",
    "        classifiers[name].fit(X_train,y_train)\n",
    "        predictions = classifiers[name].predict(X_test)\n",
    "        score = accuracy_score(y_test, predictions)\n",
    "        result_dict.update({name: [dataset_name, input_data, score, str(ngram_range)]})\n",
    "        \n",
    "    return result_dict"
   ]
  },
  {
   "cell_type": "markdown",
   "metadata": {},
   "source": [
    "Následující výpočet trvá poměrně dlouhou dobu. Výsledky proto byly uloženy jako DataFrame *Classification_results.plk* a lze je nahrát odkomentováním řádku níže. "
   ]
  },
  {
   "cell_type": "code",
   "execution_count": 236,
   "metadata": {},
   "outputs": [],
   "source": [
    "#res = pd.read_pickle(\"./Classification_results.plk\")\n",
    "#res.head(10)"
   ]
  },
  {
   "cell_type": "code",
   "execution_count": 26,
   "metadata": {
    "scrolled": true
   },
   "outputs": [
    {
     "name": "stderr",
     "output_type": "stream",
     "text": [
      "  0%|                                                                                            | 0/3 [00:00<?, ?it/s]\n",
      "  0%|                                                                                            | 0/2 [00:00<?, ?it/s]"
     ]
    },
    {
     "name": "stdout",
     "output_type": "stream",
     "text": [
      "Working on Multiclass dataset with Cleaned_text as input. Target comlumn is 'positive', CountVectorizer with (1, 1) ngrams.\n",
      "Skipped! Target column name 'positive' is not in dataset Multiclass\n",
      "Working on Multiclass dataset with Cleaned_text as input. Target comlumn is 'positive', CountVectorizer with (2, 2) ngrams.\n",
      "Skipped! Target column name 'positive' is not in dataset Multiclass\n"
     ]
    },
    {
     "name": "stderr",
     "output_type": "stream",
     "text": [
      "\n",
      "100%|████████████████████████████████████████████████████████████████████████████████████| 2/2 [00:00<00:00, 22.73it/s]\n",
      "  0%|                                                                                            | 0/2 [00:00<?, ?it/s]"
     ]
    },
    {
     "name": "stdout",
     "output_type": "stream",
     "text": [
      "Working on Multiclass dataset with Cleaned_text as input. Target comlumn is 'stars', CountVectorizer with (1, 1) ngrams.\n"
     ]
    },
    {
     "name": "stderr",
     "output_type": "stream",
     "text": [
      "C:\\Users\\jirka\\Anaconda3\\lib\\site-packages\\sklearn\\linear_model\\logistic.py:433: FutureWarning: Default solver will be changed to 'lbfgs' in 0.22. Specify a solver to silence this warning.\n",
      "  FutureWarning)\n",
      "C:\\Users\\jirka\\Anaconda3\\lib\\site-packages\\sklearn\\linear_model\\logistic.py:460: FutureWarning: Default multi_class will be changed to 'auto' in 0.22. Specify the multi_class option to silence this warning.\n",
      "  \"this warning.\", FutureWarning)\n",
      "\n",
      " 50%|█████████████████████████████████████████▌                                         | 1/2 [02:42<02:42, 162.67s/it]"
     ]
    },
    {
     "name": "stdout",
     "output_type": "stream",
     "text": [
      "Working on Multiclass dataset with Cleaned_text as input. Target comlumn is 'stars', CountVectorizer with (2, 2) ngrams.\n"
     ]
    },
    {
     "name": "stderr",
     "output_type": "stream",
     "text": [
      "C:\\Users\\jirka\\Anaconda3\\lib\\site-packages\\sklearn\\linear_model\\logistic.py:433: FutureWarning: Default solver will be changed to 'lbfgs' in 0.22. Specify a solver to silence this warning.\n",
      "  FutureWarning)\n",
      "C:\\Users\\jirka\\Anaconda3\\lib\\site-packages\\sklearn\\linear_model\\logistic.py:460: FutureWarning: Default multi_class will be changed to 'auto' in 0.22. Specify the multi_class option to silence this warning.\n",
      "  \"this warning.\", FutureWarning)\n",
      "\n",
      "100%|███████████████████████████████████████████████████████████████████████████████████| 2/2 [22:09<00:00, 464.00s/it]\n",
      "  0%|                                                                                            | 0/2 [00:00<?, ?it/s]"
     ]
    },
    {
     "name": "stdout",
     "output_type": "stream",
     "text": [
      "Working on Multiclass dataset with Cleaned_text_stwo as input. Target comlumn is 'positive', CountVectorizer with (1, 1) ngrams.\n",
      "Skipped! Target column name 'positive' is not in dataset Multiclass\n",
      "Working on Multiclass dataset with Cleaned_text_stwo as input. Target comlumn is 'positive', CountVectorizer with (2, 2) ngrams.\n",
      "Skipped! Target column name 'positive' is not in dataset Multiclass\n"
     ]
    },
    {
     "name": "stderr",
     "output_type": "stream",
     "text": [
      "\n",
      "100%|████████████████████████████████████████████████████████████████████████████████████| 2/2 [00:00<00:00, 18.18it/s]\n",
      "  0%|                                                                                            | 0/2 [00:00<?, ?it/s]"
     ]
    },
    {
     "name": "stdout",
     "output_type": "stream",
     "text": [
      "Working on Multiclass dataset with Cleaned_text_stwo as input. Target comlumn is 'stars', CountVectorizer with (1, 1) ngrams.\n"
     ]
    },
    {
     "name": "stderr",
     "output_type": "stream",
     "text": [
      "C:\\Users\\jirka\\Anaconda3\\lib\\site-packages\\sklearn\\linear_model\\logistic.py:433: FutureWarning: Default solver will be changed to 'lbfgs' in 0.22. Specify a solver to silence this warning.\n",
      "  FutureWarning)\n",
      "C:\\Users\\jirka\\Anaconda3\\lib\\site-packages\\sklearn\\linear_model\\logistic.py:460: FutureWarning: Default multi_class will be changed to 'auto' in 0.22. Specify the multi_class option to silence this warning.\n",
      "  \"this warning.\", FutureWarning)\n",
      "\n",
      " 50%|█████████████████████████████████████████▌                                         | 1/2 [02:52<02:52, 172.08s/it]"
     ]
    },
    {
     "name": "stdout",
     "output_type": "stream",
     "text": [
      "Working on Multiclass dataset with Cleaned_text_stwo as input. Target comlumn is 'stars', CountVectorizer with (2, 2) ngrams.\n"
     ]
    },
    {
     "name": "stderr",
     "output_type": "stream",
     "text": [
      "C:\\Users\\jirka\\Anaconda3\\lib\\site-packages\\sklearn\\linear_model\\logistic.py:433: FutureWarning: Default solver will be changed to 'lbfgs' in 0.22. Specify a solver to silence this warning.\n",
      "  FutureWarning)\n",
      "C:\\Users\\jirka\\Anaconda3\\lib\\site-packages\\sklearn\\linear_model\\logistic.py:460: FutureWarning: Default multi_class will be changed to 'auto' in 0.22. Specify the multi_class option to silence this warning.\n",
      "  \"this warning.\", FutureWarning)\n",
      "\n",
      " 33%|██████████████████████████▋                                                     | 1/3 [58:42<1:57:24, 3522.01s/it]\n",
      "  0%|                                                                                            | 0/2 [00:00<?, ?it/s]"
     ]
    },
    {
     "name": "stdout",
     "output_type": "stream",
     "text": [
      "Working on Binary-posneg dataset with Cleaned_text as input. Target comlumn is 'positive', CountVectorizer with (1, 1) ngrams.\n"
     ]
    },
    {
     "name": "stderr",
     "output_type": "stream",
     "text": [
      "C:\\Users\\jirka\\Anaconda3\\lib\\site-packages\\sklearn\\linear_model\\logistic.py:433: FutureWarning: Default solver will be changed to 'lbfgs' in 0.22. Specify a solver to silence this warning.\n",
      "  FutureWarning)\n",
      "\n",
      " 50%|██████████████████████████████████████████                                          | 1/2 [01:13<01:13, 73.25s/it]"
     ]
    },
    {
     "name": "stdout",
     "output_type": "stream",
     "text": [
      "Working on Binary-posneg dataset with Cleaned_text as input. Target comlumn is 'positive', CountVectorizer with (2, 2) ngrams.\n"
     ]
    },
    {
     "name": "stderr",
     "output_type": "stream",
     "text": [
      "C:\\Users\\jirka\\Anaconda3\\lib\\site-packages\\sklearn\\linear_model\\logistic.py:433: FutureWarning: Default solver will be changed to 'lbfgs' in 0.22. Specify a solver to silence this warning.\n",
      "  FutureWarning)\n",
      "\n",
      "100%|███████████████████████████████████████████████████████████████████████████████████| 2/2 [08:03<00:00, 174.27s/it]\n",
      "  0%|                                                                                            | 0/2 [00:00<?, ?it/s]"
     ]
    },
    {
     "name": "stdout",
     "output_type": "stream",
     "text": [
      "Working on Binary-posneg dataset with Cleaned_text as input. Target comlumn is 'stars', CountVectorizer with (1, 1) ngrams.\n",
      "Skipped! Target column name 'stars' is not in dataset Binary-posneg\n",
      "Working on Binary-posneg dataset with Cleaned_text as input. Target comlumn is 'stars', CountVectorizer with (2, 2) ngrams.\n",
      "Skipped! Target column name 'stars' is not in dataset Binary-posneg\n"
     ]
    },
    {
     "name": "stderr",
     "output_type": "stream",
     "text": [
      "\n",
      "100%|████████████████████████████████████████████████████████████████████████████████████| 2/2 [00:00<00:00, 35.10it/s]\n",
      "  0%|                                                                                            | 0/2 [00:00<?, ?it/s]"
     ]
    },
    {
     "name": "stdout",
     "output_type": "stream",
     "text": [
      "Working on Binary-posneg dataset with Cleaned_text_stwo as input. Target comlumn is 'positive', CountVectorizer with (1, 1) ngrams.\n"
     ]
    },
    {
     "name": "stderr",
     "output_type": "stream",
     "text": [
      "C:\\Users\\jirka\\Anaconda3\\lib\\site-packages\\sklearn\\linear_model\\logistic.py:433: FutureWarning: Default solver will be changed to 'lbfgs' in 0.22. Specify a solver to silence this warning.\n",
      "  FutureWarning)\n",
      "\n",
      " 50%|██████████████████████████████████████████                                          | 1/2 [00:58<00:58, 58.51s/it]"
     ]
    },
    {
     "name": "stdout",
     "output_type": "stream",
     "text": [
      "Working on Binary-posneg dataset with Cleaned_text_stwo as input. Target comlumn is 'positive', CountVectorizer with (2, 2) ngrams.\n"
     ]
    },
    {
     "name": "stderr",
     "output_type": "stream",
     "text": [
      "C:\\Users\\jirka\\Anaconda3\\lib\\site-packages\\sklearn\\linear_model\\logistic.py:433: FutureWarning: Default solver will be changed to 'lbfgs' in 0.22. Specify a solver to silence this warning.\n",
      "  FutureWarning)\n",
      "\n",
      "100%|███████████████████████████████████████████████████████████████████████████████████| 2/2 [13:43<00:00, 270.55s/it]\n",
      "  0%|                                                                                            | 0/2 [00:00<?, ?it/s]"
     ]
    },
    {
     "name": "stdout",
     "output_type": "stream",
     "text": [
      "Working on Binary-posneg dataset with Cleaned_text_stwo as input. Target comlumn is 'stars', CountVectorizer with (1, 1) ngrams.\n",
      "Skipped! Target column name 'stars' is not in dataset Binary-posneg\n",
      "Working on Binary-posneg dataset with Cleaned_text_stwo as input. Target comlumn is 'stars', CountVectorizer with (2, 2) ngrams.\n",
      "Skipped! Target column name 'stars' is not in dataset Binary-posneg\n"
     ]
    },
    {
     "name": "stderr",
     "output_type": "stream",
     "text": [
      "\n",
      " 67%|█████████████████████████████████████████████████████▎                          | 2/3 [1:20:29<47:37, 2857.65s/it]\n",
      "  0%|                                                                                            | 0/2 [00:00<?, ?it/s]"
     ]
    },
    {
     "name": "stdout",
     "output_type": "stream",
     "text": [
      "Working on Binary-15 dataset with Cleaned_text as input. Target comlumn is 'positive', CountVectorizer with (1, 1) ngrams.\n",
      "Skipped! Target column name 'positive' is not in dataset Binary-15\n",
      "Working on Binary-15 dataset with Cleaned_text as input. Target comlumn is 'positive', CountVectorizer with (2, 2) ngrams.\n",
      "Skipped! Target column name 'positive' is not in dataset Binary-15\n"
     ]
    },
    {
     "name": "stderr",
     "output_type": "stream",
     "text": [
      "\n",
      "100%|████████████████████████████████████████████████████████████████████████████████████| 2/2 [00:00<00:00, 29.85it/s]\n",
      "  0%|                                                                                            | 0/2 [00:00<?, ?it/s]"
     ]
    },
    {
     "name": "stdout",
     "output_type": "stream",
     "text": [
      "Working on Binary-15 dataset with Cleaned_text as input. Target comlumn is 'stars', CountVectorizer with (1, 1) ngrams.\n"
     ]
    },
    {
     "name": "stderr",
     "output_type": "stream",
     "text": [
      "C:\\Users\\jirka\\Anaconda3\\lib\\site-packages\\sklearn\\linear_model\\logistic.py:433: FutureWarning: Default solver will be changed to 'lbfgs' in 0.22. Specify a solver to silence this warning.\n",
      "  FutureWarning)\n",
      "\n",
      " 50%|██████████████████████████████████████████                                          | 1/2 [00:18<00:18, 18.57s/it]"
     ]
    },
    {
     "name": "stdout",
     "output_type": "stream",
     "text": [
      "Working on Binary-15 dataset with Cleaned_text as input. Target comlumn is 'stars', CountVectorizer with (2, 2) ngrams.\n"
     ]
    },
    {
     "name": "stderr",
     "output_type": "stream",
     "text": [
      "C:\\Users\\jirka\\Anaconda3\\lib\\site-packages\\sklearn\\linear_model\\logistic.py:433: FutureWarning: Default solver will be changed to 'lbfgs' in 0.22. Specify a solver to silence this warning.\n",
      "  FutureWarning)\n",
      "\n",
      "100%|████████████████████████████████████████████████████████████████████████████████████| 2/2 [02:04<00:00, 44.63s/it]\n",
      "  0%|                                                                                            | 0/2 [00:00<?, ?it/s]"
     ]
    },
    {
     "name": "stdout",
     "output_type": "stream",
     "text": [
      "Working on Binary-15 dataset with Cleaned_text_stwo as input. Target comlumn is 'positive', CountVectorizer with (1, 1) ngrams.\n",
      "Skipped! Target column name 'positive' is not in dataset Binary-15\n",
      "Working on Binary-15 dataset with Cleaned_text_stwo as input. Target comlumn is 'positive', CountVectorizer with (2, 2) ngrams.\n",
      "Skipped! Target column name 'positive' is not in dataset Binary-15\n"
     ]
    },
    {
     "name": "stderr",
     "output_type": "stream",
     "text": [
      "\n",
      "100%|████████████████████████████████████████████████████████████████████████████████████| 2/2 [00:00<00:00, 31.25it/s]\n",
      "  0%|                                                                                            | 0/2 [00:00<?, ?it/s]"
     ]
    },
    {
     "name": "stdout",
     "output_type": "stream",
     "text": [
      "Working on Binary-15 dataset with Cleaned_text_stwo as input. Target comlumn is 'stars', CountVectorizer with (1, 1) ngrams.\n"
     ]
    },
    {
     "name": "stderr",
     "output_type": "stream",
     "text": [
      "C:\\Users\\jirka\\Anaconda3\\lib\\site-packages\\sklearn\\linear_model\\logistic.py:433: FutureWarning: Default solver will be changed to 'lbfgs' in 0.22. Specify a solver to silence this warning.\n",
      "  FutureWarning)\n",
      "\n",
      " 50%|██████████████████████████████████████████                                          | 1/2 [00:16<00:16, 16.52s/it]"
     ]
    },
    {
     "name": "stdout",
     "output_type": "stream",
     "text": [
      "Working on Binary-15 dataset with Cleaned_text_stwo as input. Target comlumn is 'stars', CountVectorizer with (2, 2) ngrams.\n"
     ]
    },
    {
     "name": "stderr",
     "output_type": "stream",
     "text": [
      "C:\\Users\\jirka\\Anaconda3\\lib\\site-packages\\sklearn\\linear_model\\logistic.py:433: FutureWarning: Default solver will be changed to 'lbfgs' in 0.22. Specify a solver to silence this warning.\n",
      "  FutureWarning)\n",
      "\n",
      "100%|████████████████████████████████████████████████████████████████████████████████| 3/3 [1:26:11<00:00, 2102.97s/it]\n"
     ]
    }
   ],
   "source": [
    "datasets = [df1, df_posneg, df_binary15]\n",
    "inputs_data = [\"Cleaned_text\", \"Cleaned_text_stwo\"]\n",
    "targets = [\"positive\", \"stars\"]\n",
    "ngrams = [(1,1), (2,2)]\n",
    "\n",
    "results = pd.DataFrame()\n",
    "\n",
    "for dataset in tqdm(datasets):\n",
    "    for inp in inputs_data:\n",
    "        for target in targets:\n",
    "            for ngram in tqdm(ngrams):\n",
    "                try:\n",
    "                    print(\"Working on {} dataset with {} as input. Target comlumn is '{}', CountVectorizer with {} ngrams.\".format(dataset.name, inp, target, str(ngram)))\n",
    "                    result_dict = classify(df=dataset, input_data=inp, target=target, ngram_range=ngram)\n",
    "                    results = results.append(pd.DataFrame.from_dict(result_dict, orient=\"index\"))\n",
    "                except KeyError:\n",
    "                    print(\"Skipped! Target column name '{}' is not in dataset {}\".format(target, dataset.name))\n",
    "                    continue"
   ]
  },
  {
   "cell_type": "markdown",
   "metadata": {},
   "source": [
    "## 9. Grafické porovnání klasifikátorů na základě datasetů a vstupních parametrů\n",
    "Následující řádky upravují výsledný DataFrame (inedexování, pojemnování sloupců) v případě, že uživatel nenahraje uživatel nenahraje výsledky z *Classification_results.plk*.\n",
    "\n",
    "\n",
    "Následně jsou výsledky rozděleny do dvou DataFrame:\n",
    "\n",
    "\n",
    "- **res_clnd** - Obsahuje výsledky klasifikátorů pro text, který obsahuje *stop words*\n",
    "\n",
    "\n",
    "- **res_clnd** - Obsahuje výsledky klasifikátorů pro text, který neobsahuje *stop words*\n",
    "\n",
    "Dále jsou výsledky zobrazeny pomocí **seaborn** knihovny a je vytvořen report srovnávající efektivitu algoritmů při různých nastaveních."
   ]
  },
  {
   "cell_type": "code",
   "execution_count": null,
   "metadata": {},
   "outputs": [],
   "source": [
    "results.columns = [\"Classification\", \"Text\", \"Accuracy\", \"ngram\"]\n",
    "results.head(10)"
   ]
  },
  {
   "cell_type": "code",
   "execution_count": 174,
   "metadata": {},
   "outputs": [],
   "source": [
    "results.index = [x for x in range(len(results1))]\n",
    "res = results"
   ]
  },
  {
   "cell_type": "code",
   "execution_count": 232,
   "metadata": {},
   "outputs": [],
   "source": [
    "#Uložení DataFrame\n",
    "res.to_pickle(\"./Classification_results.plk\")"
   ]
  },
  {
   "cell_type": "code",
   "execution_count": 199,
   "metadata": {},
   "outputs": [],
   "source": [
    "res_clnd = res[res[\"Text\"]==\"Cleaned_text\"]\n",
    "res_clndstwo = res[res[\"Text\"]==\"Cleaned_text_stwo\"]"
   ]
  },
  {
   "cell_type": "code",
   "execution_count": 194,
   "metadata": {
    "scrolled": true
   },
   "outputs": [
    {
     "data": {
      "text/plain": [
       "<seaborn.axisgrid.FacetGrid at 0x2061df00400>"
      ]
     },
     "execution_count": 194,
     "metadata": {},
     "output_type": "execute_result"
    },
    {
     "data": {
      "image/png": "[encoded data removed]",
      "text/plain": [
       "<Figure size 1158.27x360 with 3 Axes>"
      ]
     },
     "metadata": {},
     "output_type": "display_data"
    }
   ],
   "source": [
    "sns.set(style=\"whitegrid\", font_scale=1.2)\n",
    "\n",
    "plot = sns.catplot(x=\"Classifier\", y=\"Accuracy\", col=\"Classification\", \n",
    "            hue=\"ngram\", data=res_clndstwo, height=5, kind=\"bar\", palette=\"viridis\")\n",
    "\n",
    "plot.set_xticklabels(rotation=30, horizontalalignment='right')"
   ]
  },
  {
   "cell_type": "code",
   "execution_count": 242,
   "metadata": {
    "scrolled": true
   },
   "outputs": [
    {
     "data": {
      "text/plain": [
       "<seaborn.axisgrid.FacetGrid at 0x20619f56630>"
      ]
     },
     "execution_count": 242,
     "metadata": {},
     "output_type": "execute_result"
    },
    {
     "data": {
      "image/png": "[encoded data removed]",
      "text/plain": [
       "<Figure size 1158.27x360 with 3 Axes>"
      ]
     },
     "metadata": {},
     "output_type": "display_data"
    }
   ],
   "source": [
    "plot = sns.catplot(x=\"Classifier\", y=\"Accuracy\", col=\"Classification\", \n",
    "            hue=\"ngram\", data=res_clnd, height=5, kind=\"bar\", palette=\"viridis\")\n",
    "\n",
    "plot.set_xticklabels(rotation=30, horizontalalignment='right')"
   ]
  },
  {
   "cell_type": "markdown",
   "metadata": {},
   "source": [
    "## Report efektivity algorimtů\n",
    "\n",
    "Rozdělení DataFrame dle charakteru klasifikace pro srovnávací report.\n",
    "\n",
    "*Připomenutí:*\n",
    "\n",
    "- **df_multi:** Výsledky klasifikátorů při klasifikaci hodnocení do tříd 1,2,3,4,5\n",
    "\n",
    "\n",
    "- **df_binary_15:** Výsledky klasifikátorů při klasifikaci hodnocení do dvou tříd 1 nebo 5\n",
    "\n",
    "\n",
    "- **df_binary_posneg:** Výsledky klasifikátorů při klasifikaci hodnocení do dvou tříd positive/negative (0/1), kde uživatelské hodnocení 1 a 2 je labelováno jako negative (positive = 0) a hodnocení 4, 5 jako positive (positive = 1) "
   ]
  },
  {
   "cell_type": "code",
   "execution_count": 214,
   "metadata": {},
   "outputs": [],
   "source": [
    "df_multi = res[res[\"Classification\"] == \"Multiclass\"]\n",
    "df_binary_15 = res[res[\"Classification\"] == \"Binary-15\"]\n",
    "df_binary_posneg = res[res[\"Classification\"] == \"Binary-posneg\"]"
   ]
  },
  {
   "cell_type": "code",
   "execution_count": 240,
   "metadata": {},
   "outputs": [
    {
     "name": "stdout",
     "output_type": "stream",
     "text": [
      "Performance report\n",
      "\n",
      "\n",
      "Multiclass dataset - Classifier with the lowest performance\n",
      "  Classification          Text  Accuracy   ngram     Classifier\n",
      "1     Multiclass  Cleaned_text    0.3751  (1, 1)  Decision Tree\n",
      "\n",
      "\n",
      "Multiclass dataset - Classifier with the highest performance\n",
      "  Classification          Text  Accuracy   ngram           Classifier\n",
      "0     Multiclass  Cleaned_text    0.5648  (1, 1)  Logistic Regression\n",
      "\n",
      "\n",
      "Binary-15 dataset - Classifier with the lowest performance\n",
      "   Classification               Text  Accuracy   ngram     Classifier\n",
      "45      Binary-15  Cleaned_text_stwo   0.80825  (2, 2)  Decision Tree\n",
      "\n",
      "\n",
      "Binary-15 dataset - Classifier with the highest performance\n",
      "   Classification          Text  Accuracy   ngram           Classifier\n",
      "32      Binary-15  Cleaned_text    0.9445  (1, 1)  Logistic Regression\n",
      "\n",
      "\n",
      "Binary-15 Pos-Neg - Classifier with the lowest performance\n",
      "   Classification               Text  Accuracy   ngram     Classifier\n",
      "29  Binary-posneg  Cleaned_text_stwo     0.763  (2, 2)  Decision Tree\n",
      "\n",
      "\n",
      "Binary-15 Pos-Neg - Classifier with the highest performance\n",
      "   Classification          Text  Accuracy   ngram           Classifier\n",
      "16  Binary-posneg  Cleaned_text  0.909875  (1, 1)  Logistic Regression\n"
     ]
    }
   ],
   "source": [
    "print(\"\\033[1m\" + \"Performance report\")\n",
    "print(\"\\n\")\n",
    "\n",
    "print(\"\\033[1m\" + \"Multiclass dataset - Classifier with the lowest performance\" + \"\\033[0m\")\n",
    "print(df_multi[df_multi[\"Accuracy\"] == df_multi[\"Accuracy\"].min()])\n",
    "print(\"\\n\")\n",
    "\n",
    "print(\"\\033[1m\" +\"Multiclass dataset - Classifier with the highest performance\" + \"\\033[0m\")\n",
    "print(df_multi[df_multi[\"Accuracy\"] == df_multi[\"Accuracy\"].max()])\n",
    "print(\"\\n\")\n",
    "\n",
    "print(\"\\033[1m\" + \"Binary-15 dataset - Classifier with the lowest performance\" + \"\\033[0m\")\n",
    "print(df_binary_15[df_binary_15[\"Accuracy\"] == df_binary_15[\"Accuracy\"].min()])\n",
    "print(\"\\n\")\n",
    "\n",
    "print(\"\\033[1m\" + \"Binary-15 dataset - Classifier with the highest performance\" \"\\033[0m\")\n",
    "print(df_binary_15[df_binary_15[\"Accuracy\"] == df_binary_15[\"Accuracy\"].max()])\n",
    "print(\"\\n\")\n",
    "\n",
    "print(\"\\033[1m\" + \"Binary-15 Pos-Neg - Classifier with the lowest performance\" + \"\\033[0m\")\n",
    "print(df_binary_posneg[df_binary_posneg[\"Accuracy\"] == df_binary_posneg[\"Accuracy\"].min()])\n",
    "print(\"\\n\")\n",
    "\n",
    "print(\"\\033[1m\" + \"Binary-15 Pos-Neg - Classifier with the highest performance\" + \"\\033[0m\")\n",
    "print(df_binary_posneg[df_binary_posneg[\"Accuracy\"] == df_binary_posneg[\"Accuracy\"].max()])"
   ]
  },
  {
   "cell_type": "markdown",
   "metadata": {},
   "source": [
    "# Výsledky\n",
    "\n",
    "## df_multi\n",
    "\n",
    "- Nejhorší přesnosti **37.51%** na tomto datasetu dosáhl algoritmus **Decision Tree** na textu s neodstraněnými stop words a s nastavením ngram = (1,1) pro CountVectorizer.\n",
    "\n",
    "\n",
    "- Nejlepší přesnosti **56.48%** na tomto datasetu dosáhl algoritmus **Logistic Regression** na textu s neodstraněnými stop words a s nastavením ngram = (1,1) pro CountVectorizer.\n",
    "\n",
    "## df_binary_15\n",
    "\n",
    "- Nejhorší přesnosti **80.83%** na tomto datasetu dosáhl algoritmus **Decision Tree** na textu s odstraněnými stop words a s nastavením ngram = (2,2) pro CountVectorizer.\n",
    "\n",
    "\n",
    "- Nejlepší přesnosti **94.45%** na tomto datasetu dosáhl algoritmus **Logistic Regression** na textu s neodstraněnými stop words a s nastavením ngram = (1,1) pro CountVectorizer.\n",
    "\n",
    "## df_binary_posneg\n",
    "\n",
    "- Nejhorší přesnosti **76.3%** na tomto datasetu dosáhl algoritmus **Decision Tree** na textu s odstraněnými stop words a s nastavením ngram = (2,2) pro CountVectorizer.\n",
    "\n",
    "\n",
    "- Nejlepší přesnosti **90.99%** na tomto datasetu dosáhl algoritmus **Logistic Regression** na textu s neodstraněnými stop words a s nastavením ngram = (1,1) pro CountVectorizer.\n"
   ]
  },
  {
   "cell_type": "code",
   "execution_count": 35,
   "metadata": {},
   "outputs": [],
   "source": []
  }
 ],
 "metadata": {
  "kernelspec": {
   "display_name": "Python 3",
   "language": "python",
   "name": "python3"
  },
  "language_info": {
   "codemirror_mode": {
    "name": "ipython",
    "version": 3
   },
   "file_extension": ".py",
   "mimetype": "text/x-python",
   "name": "python",
   "nbconvert_exporter": "python",
   "pygments_lexer": "ipython3",
   "version": "3.7.3"
  }
 },
 "nbformat": 4,
 "nbformat_minor": 2
}
